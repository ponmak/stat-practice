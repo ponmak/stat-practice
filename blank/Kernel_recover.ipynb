{
 "cells": [
  {
   "cell_type": "markdown",
   "metadata": {},
   "source": [
    "# Ep:1 Kernel recover : การกู้คืนระบบ\n",
    "#### เนื้อเรื่อง\n",
    "ยินดีตอนรับ commander กลับมาจากการเดินทางอันยาวนานจากการต่อสู้ที่ Frankfurt \n",
    "ด้วยความสามารถของคุณทำให้เอาชนะศัตรูได้ แต่เสียกำลังรบไปมากมาย ทำให้เกิดความเสียหายที่มากมาย\n",
    "\n",
    "**ทำให้พวกเราต้องการวิเคราะห์ข้อมูลความเสียหายเพื่อประเมินการขอสั่งซื้อ T-Doll เพิ่ม ในการสู้ครั้งต่อไป**\n",
    "\n",
    "**โดยใช้ numpy, pandas ในการวิเคราะห์ข้อมูล**\n",
    "\n",
    "#### เนื้อหา\n",
    "- python : List Comprehension\n",
    "- numpy : Array, dtype,  zeros, one, arange, argmax, shape, reshape, nan\n",
    "- pandas : DataFrame, Series, head/tail, describe, filter, value_counts, groupby, sort_values, loc, iloc, isin, merge, concat,\n",
    "\n",
    "#### ข้อมูลที่ใช้\n",
    "- ข้อมูลการสูญเสียทั้งหมดของทีม commander ในการต่อสู้ที่ Frankfurt : [T-dolls list](https://raw.githubusercontent.com/ponmak/stat-practice/refs/heads/main/t_dolls.csv) \n",
    "\n",
    "#### column ของข้อมูล\n",
    "- **DollId** : รหัสของ T-Doll ที่เสียหาย\n",
    "- **Survived** : สถานะของ T-Doll ว่ารอดชีวิตหรือไม่ (1 = รอดชีวิต, 0 = ไม่รอดชีวิต)\n",
    "- **Type** : ประเภทของ T-Doll (HG = Handgun, SMG = Submachine gun , AR = Assault Rifle, RF = Rifle, MG = Machine gun, SG = Shotgun)\n",
    "- **Name** : ชื่อของ T-Doll\n",
    "- **Sex** : เพศของ T-Doll (Female = หญิง, Male = ชาย)\n",
    "- **Level** : ระดับของ T-Doll (1-100)\n",
    "- **Links** : ลิ้งค์ของ T-Doll \n",
    "- **Favor** : ความสนใจของ T-Doll (0-100)\n",
    "- **Stats** : สถิติความสามารถของ T-Doll ที่เสียหาย (HP, Firepower, Accuracy)\n",
    "- **SkillLevel** : ระดับของสกิลของ T-Doll ที่เสียหาย (1-10)\n",
    "- **Embarked** : สถานะการเดินทางของ T-Doll ที่เสียหาย (Base, Frankfurt)\n"
   ]
  },
  {
   "cell_type": "markdown",
   "metadata": {},
   "source": [
    "## Turn 00 : intialize the game\n"
   ]
  },
  {
   "cell_type": "code",
   "execution_count": 8,
   "metadata": {},
   "outputs": [
    {
     "name": "stdout",
     "output_type": "stream",
     "text": [
      "Requirement already satisfied: numpy in c:\\users\\acer\\appdata\\local\\programs\\python\\python313\\lib\\site-packages (2.1.3)\n",
      "Requirement already satisfied: pandas in c:\\users\\acer\\appdata\\local\\programs\\python\\python313\\lib\\site-packages (2.2.3)\n",
      "Requirement already satisfied: wget in c:\\users\\acer\\appdata\\local\\programs\\python\\python313\\lib\\site-packages (3.2)\n",
      "Requirement already satisfied: python-dateutil>=2.8.2 in c:\\users\\acer\\appdata\\local\\programs\\python\\python313\\lib\\site-packages (from pandas) (2.9.0.post0)\n",
      "Requirement already satisfied: pytz>=2020.1 in c:\\users\\acer\\appdata\\local\\programs\\python\\python313\\lib\\site-packages (from pandas) (2024.2)\n",
      "Requirement already satisfied: tzdata>=2022.7 in c:\\users\\acer\\appdata\\local\\programs\\python\\python313\\lib\\site-packages (from pandas) (2024.2)\n",
      "Requirement already satisfied: six>=1.5 in c:\\users\\acer\\appdata\\local\\programs\\python\\python313\\lib\\site-packages (from python-dateutil>=2.8.2->pandas) (1.17.0)\n",
      "Note: you may need to restart the kernel to use updated packages.\n"
     ]
    },
    {
     "name": "stderr",
     "output_type": "stream",
     "text": [
      "\n",
      "[notice] A new release of pip is available: 24.2 -> 24.3.1\n",
      "[notice] To update, run: python.exe -m pip install --upgrade pip\n"
     ]
    },
    {
     "name": "stdout",
     "output_type": "stream",
     "text": [
      "\n",
      "Saved under t_dolls (1).csv\n"
     ]
    }
   ],
   "source": [
    "# install lib: numpy, pandas\n",
    "%pip install numpy pandas wget\n",
    "\n",
    "# download the data\n",
    "!python -m wget  https://raw.githubusercontent.com/ponmak/stat-practice/refs/heads/main/t_dolls.csv"
   ]
  },
  {
   "cell_type": "markdown",
   "metadata": {},
   "source": [
    "## Turn 01 : recover the kernel "
   ]
  },
  {
   "cell_type": "markdown",
   "metadata": {},
   "source": [
    "T-doll นั้นใช้งานระบบปฏิบัติการที่เรียกว่า kernel ในการทำงาน และเมื่อมีการสูญเสียของ T-doll ทำให้ kernel นั้นเสียหายไปด้วย ทำให้เราต้องทำการกู้คืน kernel ของ T-doll ที่เสียหาย\n",
    "\n",
    "โดย kernel จะอยู่ในรูป numpy array ที่มีขนาด 3x4 และมีค่าที่เป็นเลขจำนวนเต็ม และมีค่าที่หายไปเป็น nan\n",
    "\n",
    "**ต้องให้ผู้การซ่อม kernel ที่ได้รับมา**\n",
    "- **เป็น numpy array ที่มีขนาด 3x4 : reshape**\n",
    "- **มีค่าที่เป็นเลขจำนวนเต็ม**\n",
    "- **เปลี่ยนค่า nan เป็น np.nan** "
   ]
  },
  {
   "cell_type": "code",
   "execution_count": 12,
   "metadata": {},
   "outputs": [],
   "source": [
    "import numpy as np\n",
    "recover_kernel = [[0.1, 0.2, 'nan'], \n",
    "                  [0.4, 0.5, 0.6],  \n",
    "                  [0.8, 'nan', 1.0],\n",
    "                  ['nan', 1.2, 1.3,]]"
   ]
  },
  {
   "cell_type": "code",
   "execution_count": 40,
   "metadata": {},
   "outputs": [
    {
     "data": {
      "text/plain": [
       "array([[0.1, 0.2, nan, 0.4],\n",
       "       [0.5, 0.6, 0.8, nan],\n",
       "       [1. , nan, 1.2, 1.3]])"
      ]
     },
     "execution_count": 40,
     "metadata": {},
     "output_type": "execute_result"
    }
   ],
   "source": [
    "# your code here\n",
    "\n",
    "# eval nan to np.nan\n",
    "recover_kernel = \n",
    "\n",
    "# create numpy array from the data\n",
    "\n",
    "\n",
    "# reshape the numpy array\n"
   ]
  },
  {
   "cell_type": "markdown",
   "metadata": {},
   "source": [
    "จากนั้นให้เปลี่ยนแค่ nan เป็นค่า mean ของแต่ละ column ของ kernel ที่ได้รับมา\n",
    "\n",
    "สิ่งที่ใช้\n",
    "- nanmean\n",
    "- where\n",
    "- isnan"
   ]
  },
  {
   "cell_type": "code",
   "execution_count": 41,
   "metadata": {},
   "outputs": [
    {
     "data": {
      "text/plain": [
       "array([[0.1       , 0.2       , 0.67777778, 0.4       ],\n",
       "       [0.5       , 0.6       , 0.8       , 0.67777778],\n",
       "       [1.        , 0.67777778, 1.2       , 1.3       ]])"
      ]
     },
     "execution_count": 41,
     "metadata": {},
     "output_type": "execute_result"
    }
   ],
   "source": [
    "# your code here\n",
    "\n",
    "# find mean\n",
    "\n",
    "\n",
    "# change nan to mean\n"
   ]
  },
  {
   "cell_type": "markdown",
   "metadata": {},
   "source": [
    "หลังจากตั้งต้องสร้าง kernel อีกชุดที่มีขนาด 3x12 จำนวนเต็มบวก\n",
    "\n",
    "ชั้นที่ 1 เป็นเลขคู่ เรียงลำดับกัน โดนใช้ np.arange\n",
    "\n",
    "ชั้นที่ 2 เป็นเลขคี่ เรียงลำดับกัน โดนใช้ np.arange\n",
    "\n",
    "ชั้นที่ 3 เป็นเลข 1 ทั้งหมด"
   ]
  },
  {
   "cell_type": "markdown",
   "metadata": {},
   "source": [
    "**การใช้ arange หรือ ones ต้องเอาไปใส่ numpy array สะก่อน**\n",
    "\n",
    "**ไม่ออกสอบแต่แนะนำให้รู้จัก : ใช้ np.stack([arr1, arr2, arr3]) ในการรวม kernel ทั้ง 3 ชุดเข้าด้วยกัน**"
   ]
  },
  {
   "cell_type": "code",
   "execution_count": 39,
   "metadata": {},
   "outputs": [
    {
     "data": {
      "text/plain": [
       "(3, 12)"
      ]
     },
     "execution_count": 39,
     "metadata": {},
     "output_type": "execute_result"
    }
   ],
   "source": [
    "# your code here\n",
    "\n",
    "# create array item\n",
    "\n",
    "\n",
    "# create numpy array from the data\n",
    "\n",
    "\n",
    "# stack array\n"
   ]
  },
  {
   "cell_type": "markdown",
   "metadata": {},
   "source": [
    "## Turn 02 : war analysis"
   ]
  },
  {
   "cell_type": "markdown",
   "metadata": {},
   "source": [
    "เมื่อเราได้ kernel ที่สมบูรณ์แล้ว เราต้องการทราบว่าเราสูญเสีย T-doll ในการต่อสู้ที่ Frankfurt ไปเท่าไหร่ และเราต้องการทราบว่า T-doll ที่สูญเสียที่ไหน "
   ]
  },
  {
   "cell_type": "code",
   "execution_count": 45,
   "metadata": {},
   "outputs": [
    {
     "data": {
      "text/html": [
       "<div>\n",
       "<style scoped>\n",
       "    .dataframe tbody tr th:only-of-type {\n",
       "        vertical-align: middle;\n",
       "    }\n",
       "\n",
       "    .dataframe tbody tr th {\n",
       "        vertical-align: top;\n",
       "    }\n",
       "\n",
       "    .dataframe thead th {\n",
       "        text-align: right;\n",
       "    }\n",
       "</style>\n",
       "<table border=\"1\" class=\"dataframe\">\n",
       "  <thead>\n",
       "    <tr style=\"text-align: right;\">\n",
       "      <th></th>\n",
       "      <th>DollId</th>\n",
       "      <th>Survived</th>\n",
       "      <th>Type</th>\n",
       "      <th>Name</th>\n",
       "      <th>Sex</th>\n",
       "      <th>Level</th>\n",
       "      <th>Links</th>\n",
       "      <th>Favor</th>\n",
       "      <th>Stats</th>\n",
       "      <th>SkillLevel</th>\n",
       "      <th>Embarked</th>\n",
       "    </tr>\n",
       "  </thead>\n",
       "  <tbody>\n",
       "    <tr>\n",
       "      <th>0</th>\n",
       "      <td>1</td>\n",
       "      <td>1</td>\n",
       "      <td>hg</td>\n",
       "      <td>M1873</td>\n",
       "      <td>Female</td>\n",
       "      <td>0</td>\n",
       "      <td>5</td>\n",
       "      <td>0</td>\n",
       "      <td>400/36/49</td>\n",
       "      <td>5</td>\n",
       "      <td>Frankfurt</td>\n",
       "    </tr>\n",
       "    <tr>\n",
       "      <th>1</th>\n",
       "      <td>2</td>\n",
       "      <td>1</td>\n",
       "      <td>hg</td>\n",
       "      <td>M1911</td>\n",
       "      <td>Female</td>\n",
       "      <td>10</td>\n",
       "      <td>3</td>\n",
       "      <td>10</td>\n",
       "      <td>365/27/50</td>\n",
       "      <td>7</td>\n",
       "      <td>Frankfurt</td>\n",
       "    </tr>\n",
       "    <tr>\n",
       "      <th>2</th>\n",
       "      <td>3</td>\n",
       "      <td>1</td>\n",
       "      <td>hg</td>\n",
       "      <td>M9</td>\n",
       "      <td>Female</td>\n",
       "      <td>20</td>\n",
       "      <td>3</td>\n",
       "      <td>20</td>\n",
       "      <td>380/29/56</td>\n",
       "      <td>1</td>\n",
       "      <td>Frankfurt</td>\n",
       "    </tr>\n",
       "    <tr>\n",
       "      <th>3</th>\n",
       "      <td>4</td>\n",
       "      <td>0</td>\n",
       "      <td>hg</td>\n",
       "      <td>Python</td>\n",
       "      <td>Female</td>\n",
       "      <td>30</td>\n",
       "      <td>1</td>\n",
       "      <td>30</td>\n",
       "      <td>350/40/81</td>\n",
       "      <td>10</td>\n",
       "      <td>Base</td>\n",
       "    </tr>\n",
       "    <tr>\n",
       "      <th>4</th>\n",
       "      <td>5</td>\n",
       "      <td>0</td>\n",
       "      <td>hg</td>\n",
       "      <td>M1895</td>\n",
       "      <td>Female</td>\n",
       "      <td>40</td>\n",
       "      <td>2</td>\n",
       "      <td>40</td>\n",
       "      <td>350/32/46</td>\n",
       "      <td>7</td>\n",
       "      <td>Base</td>\n",
       "    </tr>\n",
       "  </tbody>\n",
       "</table>\n",
       "</div>"
      ],
      "text/plain": [
       "   DollId  Survived Type    Name     Sex  Level  Links  Favor      Stats  \\\n",
       "0       1         1   hg   M1873  Female      0      5      0  400/36/49   \n",
       "1       2         1   hg   M1911  Female     10      3     10  365/27/50   \n",
       "2       3         1   hg      M9  Female     20      3     20  380/29/56   \n",
       "3       4         0   hg  Python  Female     30      1     30  350/40/81   \n",
       "4       5         0   hg   M1895  Female     40      2     40  350/32/46   \n",
       "\n",
       "   SkillLevel   Embarked  \n",
       "0           5  Frankfurt  \n",
       "1           7  Frankfurt  \n",
       "2           1  Frankfurt  \n",
       "3          10       Base  \n",
       "4           7       Base  "
      ]
     },
     "execution_count": 45,
     "metadata": {},
     "output_type": "execute_result"
    }
   ],
   "source": [
    "# dataset showcase\n",
    "\n",
    "# load the data\n",
    "import pandas as pd\n",
    "df_dolls = pd.read_csv('t_dolls.csv')\n",
    "\n",
    "df_dolls.head()"
   ]
  },
  {
   "cell_type": "markdown",
   "metadata": {},
   "source": [
    "ก่อนอื่นผู้การต้องเปลี่ยน level ที่เป็น 0 เป็น 1 สะก่อน"
   ]
  },
  {
   "cell_type": "code",
   "execution_count": 47,
   "metadata": {},
   "outputs": [
    {
     "data": {
      "text/plain": [
       "Level\n",
       "1      42\n",
       "10     42\n",
       "20     42\n",
       "30     42\n",
       "40     42\n",
       "50     42\n",
       "60     42\n",
       "70     42\n",
       "80     42\n",
       "90     42\n",
       "100    41\n",
       "Name: count, dtype: int64"
      ]
     },
     "execution_count": 47,
     "metadata": {},
     "output_type": "execute_result"
    }
   ],
   "source": [
    "# your code here\n"
   ]
  },
  {
   "cell_type": "markdown",
   "metadata": {
    "vscode": {
     "languageId": "ini"
    }
   },
   "source": [
    "ในแต่ละประเภท Type มีจำนวน T-doll ที่รอดชีวิตและเสียชีวิตอย่างละเท่าไหร่ ประเภทใดมีจำนวนผู้เสียชีวิตมากที่สุด\n",
    "เรียงลำดับจาก มากไปน้อย \n",
    "\n",
    "- crosstab\n",
    "- argmax & index\n",
    "- sort_values"
   ]
  },
  {
   "cell_type": "code",
   "execution_count": 53,
   "metadata": {},
   "outputs": [
    {
     "data": {
      "text/html": [
       "<div>\n",
       "<style scoped>\n",
       "    .dataframe tbody tr th:only-of-type {\n",
       "        vertical-align: middle;\n",
       "    }\n",
       "\n",
       "    .dataframe tbody tr th {\n",
       "        vertical-align: top;\n",
       "    }\n",
       "\n",
       "    .dataframe thead th {\n",
       "        text-align: right;\n",
       "    }\n",
       "</style>\n",
       "<table border=\"1\" class=\"dataframe\">\n",
       "  <thead>\n",
       "    <tr style=\"text-align: right;\">\n",
       "      <th>Survived</th>\n",
       "      <th>0</th>\n",
       "      <th>1</th>\n",
       "    </tr>\n",
       "    <tr>\n",
       "      <th>Type</th>\n",
       "      <th></th>\n",
       "      <th></th>\n",
       "    </tr>\n",
       "  </thead>\n",
       "  <tbody>\n",
       "    <tr>\n",
       "      <th>ar</th>\n",
       "      <td>52</td>\n",
       "      <td>49</td>\n",
       "    </tr>\n",
       "    <tr>\n",
       "      <th>rf</th>\n",
       "      <td>49</td>\n",
       "      <td>40</td>\n",
       "    </tr>\n",
       "    <tr>\n",
       "      <th>smg</th>\n",
       "      <td>47</td>\n",
       "      <td>41</td>\n",
       "    </tr>\n",
       "    <tr>\n",
       "      <th>hg</th>\n",
       "      <td>44</td>\n",
       "      <td>41</td>\n",
       "    </tr>\n",
       "    <tr>\n",
       "      <th>sg</th>\n",
       "      <td>25</td>\n",
       "      <td>21</td>\n",
       "    </tr>\n",
       "    <tr>\n",
       "      <th>mg</th>\n",
       "      <td>22</td>\n",
       "      <td>30</td>\n",
       "    </tr>\n",
       "  </tbody>\n",
       "</table>\n",
       "</div>"
      ],
      "text/plain": [
       "Survived   0   1\n",
       "Type            \n",
       "ar        52  49\n",
       "rf        49  40\n",
       "smg       47  41\n",
       "hg        44  41\n",
       "sg        25  21\n",
       "mg        22  30"
      ]
     },
     "execution_count": 53,
     "metadata": {},
     "output_type": "execute_result"
    }
   ],
   "source": [
    "# your code here\n"
   ]
  },
  {
   "cell_type": "markdown",
   "metadata": {},
   "source": [
    "จงหาค่าเฉลี่ยของ level ของแต่ละ type ที่รอดชีวิตและเสียชีวิต\n",
    "\n",
    "- groupby\n",
    "- mean\n",
    "- filter"
   ]
  },
  {
   "cell_type": "code",
   "execution_count": 61,
   "metadata": {},
   "outputs": [
    {
     "data": {
      "text/plain": [
       "pandas.core.frame.DataFrame"
      ]
     },
     "execution_count": 61,
     "metadata": {},
     "output_type": "execute_result"
    }
   ],
   "source": [
    "# your code here\n"
   ]
  },
  {
   "cell_type": "markdown",
   "metadata": {},
   "source": [
    "อธิบายระหว่าง series กับ dataframe\n",
    "\n",
    "- Series : ข้อมูลที่เก็บใน column ของ dataframe เช่นการใช้ filter ในการเข้าถึงข้อมูล\n",
    "- DataFrame : ข้อมูลที่เก็บในตาราง\n",
    "- การเข้าถึงข้อมูลใน series ใช้ . และชื่อ column\n",
    "- การเข้าถึงข้อมูลใน dataframe ใช้ .loc หรือ .iloc\n",
    "- การเข้าถึงข้อมูลใน dataframe ใช้ .iloc ใช้ index ของ row และ column\n",
    "- การเข้าถึงข้อมูลใน dataframe ใช้ .loc ใช้ชื่อ index ของ row และ column\n",
    "- การใช้ .loc และ .iloc จะออกมาเป็น series หากเรียก column เดียว\n",
    "\n",
    "The A:B used in loc and iloc may have different meaning.\n",
    "For loc, A and B are included.\n",
    "For iloc, A is included, B is excluded.\n",
    "\n",
    "## Turn 03 : order the new T-doll"
   ]
  }
 ],
 "metadata": {
  "kernelspec": {
   "display_name": "Python 3",
   "language": "python",
   "name": "python3"
  },
  "language_info": {
   "codemirror_mode": {
    "name": "ipython",
    "version": 3
   },
   "file_extension": ".py",
   "mimetype": "text/x-python",
   "name": "python",
   "nbconvert_exporter": "python",
   "pygments_lexer": "ipython3",
   "version": "3.13.0"
  }
 },
 "nbformat": 4,
 "nbformat_minor": 2
}

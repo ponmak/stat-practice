{
 "cells": [
  {
   "cell_type": "markdown",
   "metadata": {},
   "source": [
    "# Ep:1 Kernel recover : การกู้คืนระบบ\n",
    "#### เนื้อเรื่อง\n",
    "ยินดีตอนรับ commander กลับมาจากการเดินทางอันยาวนานจากการต่อสู้ที่ Frankfurt \n",
    "ด้วยความสามารถของคุณทำให้เอาชนะศัตรูได้ แต่เสียกำลังรบไปมากมาย ทำให้เกิดความเสียหายที่มากมาย\n",
    "\n",
    "**ทำให้พวกเราต้องการวิเคราะห์ข้อมูลความเสียหายเพื่อประเมินการขอสั่งซื้อ T-Doll เพิ่ม ในการสู้ครั้งต่อไป**\n",
    "\n",
    "**โดยใช้ numpy, pandas ในการวิเคราะห์ข้อมูล**\n",
    "\n",
    "#### เนื้อหา\n",
    "- python : List Comprehension\n",
    "- numpy : Array, dtype,  zeros, one, arrange, argmax, shape, reshape, nan\n",
    "- pandas : DataFrame, Series, head/tail, describe, filter, value_counts, groupby, sort_values, loc, iloc, isin, merge, concat,\n",
    "\n",
    "#### ข้อมูลที่ใช้\n",
    "- ข้อมูลการสูญเสียทั้งหมดของทีม commander ในการต่อสู้ที่ Frankfurt : [T-dolls list](https://raw.githubusercontent.com/ponmak/stat-practice/refs/heads/main/t_dolls.csv) \n",
    "\n",
    "#### column ของข้อมูล\n",
    "- **DollId** : รหัสของ T-Doll ที่เสียหาย\n",
    "- **Survived** : สถานะของ T-Doll ว่ารอดชีวิตหรือไม่ (1 = รอดชีวิต, 0 = ไม่รอดชีวิต)\n",
    "- **Type** : ประเภทของ T-Doll (HG = Handgun, SMG = Submachine gun , AR = Assault Rifle, RF = Rifle, MG = Machine gun, SG = Shotgun)\n",
    "- **Name** : ชื่อของ T-Doll\n",
    "- **Sex** : เพศของ T-Doll (Female = หญิง, Male = ชาย)\n",
    "- **Level** : ระดับของ T-Doll (1-100)\n",
    "- **Links** : ลิ้งค์ของ T-Doll \n",
    "- **Favor** : ความสนใจของ T-Doll (0-100)\n",
    "- **Stats** : สถิติความสามารถของ T-Doll ที่เสียหาย (HP, Firepower, Accuracy)\n",
    "- **SkillLevel** : ระดับของสกิลของ T-Doll ที่เสียหาย (1-10)\n",
    "- **Embarked** : สถานะการเดินทางของ T-Doll ที่เสียหาย (Base, Frankfurt)\n"
   ]
  },
  {
   "cell_type": "markdown",
   "metadata": {},
   "source": [
    "## Turn 00 : intialize the game\n"
   ]
  },
  {
   "cell_type": "code",
   "execution_count": 8,
   "metadata": {},
   "outputs": [
    {
     "name": "stdout",
     "output_type": "stream",
     "text": [
      "Requirement already satisfied: numpy in c:\\users\\acer\\appdata\\local\\programs\\python\\python313\\lib\\site-packages (2.1.3)\n",
      "Requirement already satisfied: pandas in c:\\users\\acer\\appdata\\local\\programs\\python\\python313\\lib\\site-packages (2.2.3)\n",
      "Requirement already satisfied: wget in c:\\users\\acer\\appdata\\local\\programs\\python\\python313\\lib\\site-packages (3.2)\n",
      "Requirement already satisfied: python-dateutil>=2.8.2 in c:\\users\\acer\\appdata\\local\\programs\\python\\python313\\lib\\site-packages (from pandas) (2.9.0.post0)\n",
      "Requirement already satisfied: pytz>=2020.1 in c:\\users\\acer\\appdata\\local\\programs\\python\\python313\\lib\\site-packages (from pandas) (2024.2)\n",
      "Requirement already satisfied: tzdata>=2022.7 in c:\\users\\acer\\appdata\\local\\programs\\python\\python313\\lib\\site-packages (from pandas) (2024.2)\n",
      "Requirement already satisfied: six>=1.5 in c:\\users\\acer\\appdata\\local\\programs\\python\\python313\\lib\\site-packages (from python-dateutil>=2.8.2->pandas) (1.17.0)\n",
      "Note: you may need to restart the kernel to use updated packages.\n"
     ]
    },
    {
     "name": "stderr",
     "output_type": "stream",
     "text": [
      "\n",
      "[notice] A new release of pip is available: 24.2 -> 24.3.1\n",
      "[notice] To update, run: python.exe -m pip install --upgrade pip\n"
     ]
    },
    {
     "name": "stdout",
     "output_type": "stream",
     "text": [
      "\n",
      "Saved under t_dolls (1).csv\n"
     ]
    }
   ],
   "source": [
    "# install lib: numpy, pandas\n",
    "%pip install numpy pandas wget\n",
    "\n",
    "# download the data\n",
    "!python -m wget  https://raw.githubusercontent.com/ponmak/stat-practice/refs/heads/main/t_dolls.csv"
   ]
  },
  {
   "cell_type": "code",
   "execution_count": 9,
   "metadata": {},
   "outputs": [],
   "source": [
    "# load the data\n",
    "import pandas as pd\n",
    "data = pd.read_csv('t_dolls.csv')"
   ]
  },
  {
   "cell_type": "markdown",
   "metadata": {},
   "source": [
    "## Turn 01 : recover the kernel "
   ]
  },
  {
   "cell_type": "markdown",
   "metadata": {},
   "source": [
    "T-doll นั้นใช้งานระบบปฏิบัติการที่เรียกว่า kernel ในการทำงาน และเมื่อมีการสูญเสียของ T-doll ทำให้ kernel นั้นเสียหายไปด้วย ทำให้เราต้องทำการกู้คืน kernel ของ T-doll ที่เสียหาย\n",
    "\n",
    "โดย kernel จะอยู่ในรูป numpy array ที่มีขนาด 4x3 และมีค่าที่เป็นเลขจำนวนเต็ม และมีค่าที่หายไปเป็น nan\n",
    "\n",
    "**ต้องให้ผู้การซ่อม kernel ที่ได้รับมา**\n",
    "- **เป็น numpy array ที่มีขนาด 4x3 : reshape**\n",
    "- **มีค่าที่เป็นเลขจำนวนเต็ม**\n",
    "- **เปลี่ยนค่า nan เป็น np.nan** "
   ]
  },
  {
   "cell_type": "code",
   "execution_count": 12,
   "metadata": {},
   "outputs": [],
   "source": [
    "import numpy as np\n",
    "recover_kernel = [[0.1, 0.2, 'nan'], \n",
    "                  [0.4, 0.5, 0.6],  \n",
    "                  [0.8, 'nan', 1.0],\n",
    "                  ['nan', 1.2, 1.3,]]"
   ]
  },
  {
   "cell_type": "code",
   "execution_count": 19,
   "metadata": {},
   "outputs": [
    {
     "data": {
      "text/plain": [
       "array([[0.1, 0.2, nan],\n",
       "       [0.4, 0.5, 0.6],\n",
       "       [0.8, nan, 1. ],\n",
       "       [nan, 1.2, 1.3]])"
      ]
     },
     "execution_count": 19,
     "metadata": {},
     "output_type": "execute_result"
    }
   ],
   "source": [
    "# your code here\n",
    "\n",
    "# eval nan to np.nan\n",
    "recover_kernel = [[np.nan if x == 'nan' else x for x in row] for row in recover_kernel]\n",
    "\n",
    "# create numpy array from the data\n",
    "numpy_kernal = np.array(recover_kernel)\n",
    "\n",
    "# reshape the numpy array\n",
    "numpy_kernal = numpy_kernal.reshape(4, 3)\n",
    "numpy_kernal"
   ]
  },
  {
   "cell_type": "markdown",
   "metadata": {},
   "source": [
    "จากนั้นให้เปลี่ยนแค่ nan เป็นค่า mean ของแต่ละ column ของ kernel ที่ได้รับมา\n",
    "\n",
    "สิ่งที่ใช้\n",
    "- nanmean\n",
    "- where\n",
    "- isnan"
   ]
  },
  {
   "cell_type": "code",
   "execution_count": 22,
   "metadata": {},
   "outputs": [
    {
     "data": {
      "text/plain": [
       "array([[0.1       , 0.2       , 0.67777778],\n",
       "       [0.4       , 0.5       , 0.6       ],\n",
       "       [0.8       , 0.67777778, 1.        ],\n",
       "       [0.67777778, 1.2       , 1.3       ]])"
      ]
     },
     "execution_count": 22,
     "metadata": {},
     "output_type": "execute_result"
    }
   ],
   "source": [
    "# your code here\n",
    "\n",
    "# find mean\n",
    "numpy_kernal_mean = np.nanmean(numpy_kernal)\n",
    "\n",
    "# change nan to mean\n",
    "numpy_kernal = np.where(np.isnan(numpy_kernal), numpy_kernal_mean, numpy_kernal)\n",
    "\n",
    "numpy_kernal"
   ]
  },
  {
   "cell_type": "code",
   "execution_count": null,
   "metadata": {},
   "outputs": [],
   "source": []
  }
 ],
 "metadata": {
  "kernelspec": {
   "display_name": "Python 3",
   "language": "python",
   "name": "python3"
  },
  "language_info": {
   "codemirror_mode": {
    "name": "ipython",
    "version": 3
   },
   "file_extension": ".py",
   "mimetype": "text/x-python",
   "name": "python",
   "nbconvert_exporter": "python",
   "pygments_lexer": "ipython3",
   "version": "3.13.0"
  }
 },
 "nbformat": 4,
 "nbformat_minor": 2
}
